{
  "cells": [
    {
      "cell_type": "markdown",
      "id": "9eaeb7c3",
      "metadata": {
        "id": "9eaeb7c3"
      },
      "source": [
        "# Que 3. Sales of products in four different regions is tabulated for males and females. Find if male-female buyer rations are similar across regions."
      ]
    },
    {
      "cell_type": "code",
      "execution_count": 3,
      "id": "5f7a2667",
      "metadata": {
        "ExecuteTime": {
          "end_time": "2021-12-08T10:56:55.596945Z",
          "start_time": "2021-12-08T10:56:54.572840Z"
        },
        "id": "5f7a2667"
      },
      "outputs": [],
      "source": [
        "import pandas as pd  \n",
        "from scipy import stats "
      ]
    },
    {
      "cell_type": "code",
      "execution_count": 10,
      "id": "010fdb2f",
      "metadata": {
        "ExecuteTime": {
          "end_time": "2021-12-08T10:56:55.627970Z",
          "start_time": "2021-12-08T10:56:55.596945Z"
        },
        "id": "010fdb2f"
      },
      "outputs": [],
      "source": [
        "df=pd.read_csv(\"/content/BuyerRatio.csv\")\n"
      ]
    },
    {
      "cell_type": "markdown",
      "source": [
        "As these are categorical data so we use chi-squre test\n",
        "\n",
        "hypothesis is\n",
        "\n",
        "Ho= All proportions are equal\n",
        "\n",
        "Ha= Not all Proportions are equal"
      ],
      "metadata": {
        "id": "fmbekJizpUOE"
      },
      "id": "fmbekJizpUOE"
    },
    {
      "cell_type": "code",
      "execution_count": 5,
      "id": "4d238b0e",
      "metadata": {
        "ExecuteTime": {
          "end_time": "2021-12-08T10:59:13.724642Z",
          "start_time": "2021-12-08T10:59:13.710646Z"
        },
        "id": "4d238b0e"
      },
      "outputs": [],
      "source": [
        "male=[50,142,131,70]\n",
        "Females=[435,1523,1356,750]\n",
        "buyers=[[male,Females]]"
      ]
    },
    {
      "cell_type": "code",
      "execution_count": 8,
      "id": "170f65e7",
      "metadata": {
        "ExecuteTime": {
          "end_time": "2021-12-08T10:59:15.225073Z",
          "start_time": "2021-12-08T10:59:15.206125Z"
        },
        "scrolled": true,
        "colab": {
          "base_uri": "https://localhost:8080/"
        },
        "id": "170f65e7",
        "outputId": "f0f025e1-71ed-4f7a-c7e0-d40db493f718"
      },
      "outputs": [
        {
          "output_type": "execute_result",
          "data": {
            "text/plain": [
              "(1.595945538661058,\n",
              " 0.6603094907091882,\n",
              " 3,\n",
              " array([[[  42.76531299,  146.81287862,  131.11756787,   72.30424052],\n",
              "         [ 442.23468701, 1518.18712138, 1355.88243213,  747.69575948]]]))"
            ]
          },
          "metadata": {},
          "execution_count": 8
        }
      ],
      "source": [
        "chiStats=stats.chi2_contingency(buyers)\n",
        "chiStats   # t-statistic , p-value , dof "
      ]
    },
    {
      "cell_type": "code",
      "execution_count": 9,
      "id": "8a19b488",
      "metadata": {
        "ExecuteTime": {
          "end_time": "2021-12-08T11:03:58.516214Z",
          "start_time": "2021-12-08T11:03:58.506375Z"
        },
        "colab": {
          "base_uri": "https://localhost:8080/"
        },
        "id": "8a19b488",
        "outputId": "f471f48f-0a90-4af9-f189-b145d07213e5"
      },
      "outputs": [
        {
          "output_type": "execute_result",
          "data": {
            "text/plain": [
              "0.6603094907091882"
            ]
          },
          "metadata": {},
          "execution_count": 9
        }
      ],
      "source": [
        "pvalue=chiStats[1] \n",
        "pvalue"
      ]
    },
    {
      "cell_type": "markdown",
      "source": [
        "As the p value is greater than 0.05(significance level)\n",
        "\n",
        "we accept Null hypothesis \n",
        "\n",
        "i.e,  Ho=  All proportions are equal\n",
        "\n",
        "male-female buyer rations are similar across regions\n"
      ],
      "metadata": {
        "id": "wTh6PR3LpaI_"
      },
      "id": "wTh6PR3LpaI_"
    }
  ],
  "metadata": {
    "kernelspec": {
      "display_name": "Python 3",
      "language": "python",
      "name": "python3"
    },
    "language_info": {
      "codemirror_mode": {
        "name": "ipython",
        "version": 3
      },
      "file_extension": ".py",
      "mimetype": "text/x-python",
      "name": "python",
      "nbconvert_exporter": "python",
      "pygments_lexer": "ipython3",
      "version": "3.8.8"
    },
    "colab": {
      "name": "hypothesis que 3 Buyer Ratio.ipynb",
      "provenance": [],
      "collapsed_sections": []
    }
  },
  "nbformat": 4,
  "nbformat_minor": 5
}